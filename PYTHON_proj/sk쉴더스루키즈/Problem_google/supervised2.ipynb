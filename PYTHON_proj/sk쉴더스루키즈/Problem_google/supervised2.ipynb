{
 "cells": [
  {
   "cell_type": "code",
   "execution_count": 1,
   "id": "7adf629e",
   "metadata": {},
   "outputs": [],
   "source": [
    "import pandas as pd\n",
    "from sklearn.model_selection import train_test_split\n",
    "from sklearn.preprocessing import StandardScaler\n",
    "from sklearn.neighbors import KNeighborsClassifier\n",
    "from sklearn.metrics import accuracy_score, classification_report"
   ]
  },
  {
   "cell_type": "code",
   "execution_count": 2,
   "id": "8ff81f1e",
   "metadata": {},
   "outputs": [],
   "source": [
    "# 1. 데이터 로드\n",
    "df = pd.read_csv(\"creditcard.csv\")  # 데이터 파일이 같은 디렉토리에 있어야 함"
   ]
  },
  {
   "cell_type": "code",
   "execution_count": 3,
   "id": "cf61528a",
   "metadata": {},
   "outputs": [
    {
     "name": "stdout",
     "output_type": "stream",
     "text": [
      "🔍 모델 평가 결과 (KNN)\n",
      "정확도 (Accuracy): 0.9995\n",
      "\n",
      "📋 분류 리포트:\n",
      "              precision    recall  f1-score   support\n",
      "\n",
      "           0       1.00      1.00      1.00     56864\n",
      "           1       0.92      0.81      0.86        98\n",
      "\n",
      "    accuracy                           1.00     56962\n",
      "   macro avg       0.96      0.90      0.93     56962\n",
      "weighted avg       1.00      1.00      1.00     56962\n",
      "\n"
     ]
    }
   ],
   "source": [
    "# 2. 특성과 레이블 분리\n",
    "X = df.drop(columns=['Class'])  # 입력 데이터\n",
    "y = df['Class']                 # 타깃 데이터 (0: 정상, 1: 사기)\n",
    "\n",
    "# 3. 데이터 분할 (80% 학습, 20% 테스트)\n",
    "X_train, X_test, y_train, y_test = train_test_split(\n",
    "    X, y, test_size=0.2, stratify=y, random_state=42\n",
    ")\n",
    "\n",
    "# 4. 데이터 스케일링 (표준화)\n",
    "scaler = StandardScaler()\n",
    "X_train_scaled = scaler.fit_transform(X_train)\n",
    "X_test_scaled = scaler.transform(X_test)\n",
    "\n",
    "# 5. KNN 모델 학습\n",
    "knn_model = KNeighborsClassifier(n_neighbors=5)\n",
    "knn_model.fit(X_train_scaled, y_train)\n",
    "\n",
    "# 6. 예측 및 평가\n",
    "y_pred = knn_model.predict(X_test_scaled)\n",
    "\n",
    "# 평가 결과 출력\n",
    "print(\"🔍 모델 평가 결과 (KNN)\")\n",
    "print(f\"정확도 (Accuracy): {accuracy_score(y_test, y_pred):.4f}\")\n",
    "print(\"\\n📋 분류 리포트:\")\n",
    "print(classification_report(y_test, y_pred))"
   ]
  },
  {
   "cell_type": "code",
   "execution_count": null,
   "id": "d8285859",
   "metadata": {},
   "outputs": [],
   "source": []
  }
 ],
 "metadata": {
  "kernelspec": {
   "display_name": ".venv",
   "language": "python",
   "name": "python3"
  },
  "language_info": {
   "codemirror_mode": {
    "name": "ipython",
    "version": 3
   },
   "file_extension": ".py",
   "mimetype": "text/x-python",
   "name": "python",
   "nbconvert_exporter": "python",
   "pygments_lexer": "ipython3",
   "version": "3.13.4"
  }
 },
 "nbformat": 4,
 "nbformat_minor": 5
}
