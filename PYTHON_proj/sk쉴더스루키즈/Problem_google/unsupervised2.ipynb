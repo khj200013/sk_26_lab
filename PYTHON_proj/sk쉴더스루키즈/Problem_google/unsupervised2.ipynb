{
 "cells": [
  {
   "cell_type": "code",
   "execution_count": 1,
   "id": "bb335815",
   "metadata": {},
   "outputs": [],
   "source": [
    "import pandas as pd\n",
    "import numpy as np\n",
    "from sklearn.preprocessing import StandardScaler\n",
    "from sklearn.ensemble import IsolationForest\n",
    "from sklearn.cluster import DBSCAN\n",
    "from sklearn.metrics import classification_report, confusion_matrix"
   ]
  },
  {
   "cell_type": "code",
   "execution_count": 3,
   "id": "9147e8c6",
   "metadata": {},
   "outputs": [],
   "source": [
    "# 1. 데이터 불러오기\n",
    "df = pd.read_csv(r\"C:\\Users\\khj98\\Documents\\python\\sk쉴더스루키즈\\data\\USV2_creditcard.csv\")  # Kaggle 신용카드 데이터"
   ]
  },
  {
   "cell_type": "code",
   "execution_count": 4,
   "id": "2d30d719",
   "metadata": {},
   "outputs": [],
   "source": [
    "# 2. 특성과 라벨 분리\n",
    "X = df.drop(columns=[\"Class\"])\n",
    "y = df[\"Class\"]  # 나중에 평가에만 사용\n",
    "\n",
    "# 3. 스케일링 (시간, 금액은 스케일 차이 큼)\n",
    "scaler = StandardScaler()\n",
    "X_scaled = scaler.fit_transform(X)"
   ]
  },
  {
   "cell_type": "code",
   "execution_count": 5,
   "id": "f8dc03ca",
   "metadata": {},
   "outputs": [
    {
     "name": "stdout",
     "output_type": "stream",
     "text": [
      "=== Isolation Forest ===\n",
      "[[283955    360]\n",
      " [   367    125]]\n",
      "              precision    recall  f1-score   support\n",
      "\n",
      "           0     0.9987    0.9987    0.9987    284315\n",
      "           1     0.2577    0.2541    0.2559       492\n",
      "\n",
      "    accuracy                         0.9974    284807\n",
      "   macro avg     0.6282    0.6264    0.6273    284807\n",
      "weighted avg     0.9974    0.9974    0.9974    284807\n",
      "\n"
     ]
    }
   ],
   "source": [
    "# ---------------------------\n",
    "# 🧪 1. Isolation Forest\n",
    "# ---------------------------\n",
    "print(\"=== Isolation Forest ===\")\n",
    "\n",
    "iso_model = IsolationForest(n_estimators=100, contamination=0.0017, random_state=42)\n",
    "iso_preds = iso_model.fit_predict(X_scaled)\n",
    "\n",
    "# Isolation Forest의 이상치 결과는 -1 → 1로 변환\n",
    "iso_preds = np.where(iso_preds == -1, 1, 0)\n",
    "\n",
    "print(confusion_matrix(y, iso_preds))\n",
    "print(classification_report(y, iso_preds, digits=4))"
   ]
  },
  {
   "cell_type": "code",
   "execution_count": 6,
   "id": "4fbc8280",
   "metadata": {},
   "outputs": [
    {
     "name": "stdout",
     "output_type": "stream",
     "text": [
      "\n",
      "=== DBSCAN ===\n",
      "[[230399  53916]\n",
      " [    71    421]]\n",
      "              precision    recall  f1-score   support\n",
      "\n",
      "           0     0.9997    0.8104    0.8951    284315\n",
      "           1     0.0077    0.8557    0.0154       492\n",
      "\n",
      "    accuracy                         0.8104    284807\n",
      "   macro avg     0.5037    0.8330    0.4552    284807\n",
      "weighted avg     0.9980    0.8104    0.8936    284807\n",
      "\n"
     ]
    }
   ],
   "source": [
    "\n",
    "# ---------------------------\n",
    "# 🧪 2. DBSCAN\n",
    "# ---------------------------\n",
    "print(\"\\n=== DBSCAN ===\")\n",
    "\n",
    "dbscan = DBSCAN(eps=2, min_samples=5, n_jobs=-1)\n",
    "db_preds = dbscan.fit_predict(X_scaled)\n",
    "\n",
    "# DBSCAN은 noise를 -1로 표시 → 1로 간주 (부정 거래)\n",
    "db_preds = np.where(db_preds == -1, 1, 0)\n",
    "\n",
    "print(confusion_matrix(y, db_preds))\n",
    "print(classification_report(y, db_preds, digits=4))"
   ]
  },
  {
   "cell_type": "code",
   "execution_count": null,
   "id": "bf99ca16",
   "metadata": {},
   "outputs": [],
   "source": []
  }
 ],
 "metadata": {
  "kernelspec": {
   "display_name": ".venv",
   "language": "python",
   "name": "python3"
  },
  "language_info": {
   "codemirror_mode": {
    "name": "ipython",
    "version": 3
   },
   "file_extension": ".py",
   "mimetype": "text/x-python",
   "name": "python",
   "nbconvert_exporter": "python",
   "pygments_lexer": "ipython3",
   "version": "3.13.5"
  }
 },
 "nbformat": 4,
 "nbformat_minor": 5
}
