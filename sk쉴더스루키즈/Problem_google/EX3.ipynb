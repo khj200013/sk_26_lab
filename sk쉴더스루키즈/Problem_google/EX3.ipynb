{
 "cells": [
  {
   "cell_type": "code",
   "execution_count": 25,
   "id": "69aa3f88",
   "metadata": {},
   "outputs": [],
   "source": [
    "import pandas as pd\n",
    "import numpy as np"
   ]
  },
  {
   "cell_type": "code",
   "execution_count": 6,
   "id": "3128d647",
   "metadata": {},
   "outputs": [],
   "source": [
    "# 1. 데이터셋 불러오기 (예: diamonds.csv 사용)\n",
    "df = pd.read_csv(r\"C:\\Users\\khj98\\Documents\\python\\sk쉴더스루키즈\\data\\EX3_diamonds.csv\")  # 파일명이 다르면 수정하세요"
   ]
  },
  {
   "cell_type": "code",
   "execution_count": 7,
   "id": "8d6be947",
   "metadata": {},
   "outputs": [
    {
     "name": "stdout",
     "output_type": "stream",
     "text": [
      "IQR: 0.6400\n",
      "하한 (Lower Bound): -0.5600\n",
      "상한 (Upper Bound): 2.0000\n"
     ]
    }
   ],
   "source": [
    "# 2. carat 열의 Q1, Q3, IQR 계산\n",
    "Q1 = df['carat'].quantile(0.25)\n",
    "Q3 = df['carat'].quantile(0.75)\n",
    "IQR = Q3 - Q1\n",
    "\n",
    "# 3. 이상치 경계 계산\n",
    "lower_bound = Q1 - 1.5 * IQR\n",
    "upper_bound = Q3 + 1.5 * IQR\n",
    "\n",
    "print(f\"IQR: {IQR:.4f}\")\n",
    "print(f\"하한 (Lower Bound): {lower_bound:.4f}\")\n",
    "print(f\"상한 (Upper Bound): {upper_bound:.4f}\")"
   ]
  },
  {
   "cell_type": "code",
   "execution_count": 8,
   "id": "d83b9fbb",
   "metadata": {},
   "outputs": [
    {
     "name": "stdout",
     "output_type": "stream",
     "text": [
      "이상치 제거 후 데이터 개수: 52051\n"
     ]
    }
   ],
   "source": [
    "# 4. 이상치를 제거한 데이터프레임 생성\n",
    "df_no_outliers = df[(df['carat'] >= lower_bound) & (df['carat'] <= upper_bound)]\n",
    "\n",
    "# 5. 제거 후 데이터 개수 출력\n",
    "print(f\"이상치 제거 후 데이터 개수: {len(df_no_outliers)}\")"
   ]
  },
  {
   "cell_type": "code",
   "execution_count": 23,
   "id": "e5a65de0",
   "metadata": {},
   "outputs": [],
   "source": [
    "from sklearn.model_selection import train_test_split\n",
    "from sklearn.ensemble import RandomForestRegressor\n",
    "from sklearn.metrics import mean_squared_error, r2_score\n",
    "from sklearn.preprocessing import StandardScaler"
   ]
  },
  {
   "cell_type": "code",
   "execution_count": 13,
   "id": "3658834b",
   "metadata": {},
   "outputs": [],
   "source": [
    "df_encoded = pd.get_dummies(df, columns=['cut', 'color', 'clarity'], drop_first=True)"
   ]
  },
  {
   "cell_type": "code",
   "execution_count": 26,
   "id": "042cb691",
   "metadata": {},
   "outputs": [
    {
     "name": "stdout",
     "output_type": "stream",
     "text": [
      "RMSE (Root Mean Squared Error): 21.81\n",
      "R² Score: 1.0000\n"
     ]
    }
   ],
   "source": [
    "X = df_encoded.drop('price', axis=1)\n",
    "y = df_encoded['price']\n",
    "\n",
    "# 6. 데이터 분할 (8:2)\n",
    "X_train, X_test, y_train, y_test = train_test_split(X, y, test_size=0.2, random_state=42)\n",
    "\n",
    "# 7. 스케일링 (필요 시)\n",
    "scaler = StandardScaler()\n",
    "X_train_scaled = scaler.fit_transform(X_train)\n",
    "X_test_scaled = scaler.transform(X_test)\n",
    "\n",
    "# 8. 모델 학습\n",
    "model = RandomForestRegressor(random_state=42)\n",
    "model.fit(X_train_scaled, y_train)\n",
    "\n",
    "# 9. 예측 및 평가\n",
    "y_pred = model.predict(X_test_scaled)\n",
    "mse = mean_squared_error(y_test, y_pred)\n",
    "rmse = np.sqrt(mse)  # ✅ 버전 호환됨\n",
    "r2 = r2_score(y_test, y_pred)\n",
    "\n",
    "# 10. 결과 출력\n",
    "print(f\"RMSE (Root Mean Squared Error): {rmse:.2f}\")\n",
    "print(f\"R² Score: {r2:.4f}\")"
   ]
  },
  {
   "cell_type": "code",
   "execution_count": null,
   "id": "8c135f58",
   "metadata": {},
   "outputs": [],
   "source": []
  }
 ],
 "metadata": {
  "kernelspec": {
   "display_name": ".venv",
   "language": "python",
   "name": "python3"
  },
  "language_info": {
   "codemirror_mode": {
    "name": "ipython",
    "version": 3
   },
   "file_extension": ".py",
   "mimetype": "text/x-python",
   "name": "python",
   "nbconvert_exporter": "python",
   "pygments_lexer": "ipython3",
   "version": "3.13.4"
  }
 },
 "nbformat": 4,
 "nbformat_minor": 5
}
