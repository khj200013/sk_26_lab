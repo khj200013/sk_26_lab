{
 "cells": [
  {
   "cell_type": "code",
   "execution_count": 1,
   "id": "debdaaef",
   "metadata": {},
   "outputs": [],
   "source": [
    "import pandas as pd\n",
    "from sklearn.preprocessing import LabelEncoder"
   ]
  },
  {
   "cell_type": "code",
   "execution_count": 2,
   "id": "d5878107",
   "metadata": {},
   "outputs": [],
   "source": [
    "df = pd.read_csv('adult.csv')  # 파일 경로와 이름을 수정하세요\n"
   ]
  },
  {
   "cell_type": "code",
   "execution_count": 4,
   "id": "73de94c8",
   "metadata": {},
   "outputs": [
    {
     "name": "stdout",
     "output_type": "stream",
     "text": [
      "자동 탐지된 범주형 열: ['workclass', 'education', 'marital-status', 'occupation', 'relationship', 'race', 'gender', 'native-country', 'income']\n"
     ]
    }
   ],
   "source": [
    "# 2. 범주형 열 자동 탐지 (object 또는 category 타입)\n",
    "categorical_cols = df.select_dtypes(include=['object', 'category']).columns.tolist()\n",
    "print(f\"자동 탐지된 범주형 열: {categorical_cols}\")\n"
   ]
  },
  {
   "cell_type": "code",
   "execution_count": 5,
   "id": "295a69cb",
   "metadata": {},
   "outputs": [],
   "source": [
    "# 3. Label Encoding 적용 (각 열마다 새로운 열 생성)\n",
    "df_label_encoded = df.copy()\n",
    "le = LabelEncoder()\n",
    "\n",
    "for col in categorical_cols:\n",
    "    try:\n",
    "        df_label_encoded[col + '_LabelEnc'] = le.fit_transform(df[col])\n",
    "    except:\n",
    "        print(f\"[경고] Label Encoding 실패 - {col} (결측치나 숫자 혼합일 수 있음)\")"
   ]
  },
  {
   "cell_type": "code",
   "execution_count": 6,
   "id": "fc03bbf3",
   "metadata": {},
   "outputs": [
    {
     "name": "stdout",
     "output_type": "stream",
     "text": [
      "\n",
      "[Label Encoding 결과 예시]\n",
      "   workclass_LabelEnc  education_LabelEnc  marital-status_LabelEnc  \\\n",
      "0                   4                   1                        4   \n",
      "1                   4                  11                        2   \n",
      "2                   2                   7                        2   \n",
      "3                   4                  15                        2   \n",
      "4                   0                  15                        4   \n",
      "\n",
      "   occupation_LabelEnc  relationship_LabelEnc  race_LabelEnc  gender_LabelEnc  \\\n",
      "0                    7                      3              2                1   \n",
      "1                    5                      0              4                1   \n",
      "2                   11                      0              4                1   \n",
      "3                    7                      0              2                1   \n",
      "4                    0                      3              4                0   \n",
      "\n",
      "   native-country_LabelEnc  income_LabelEnc  \n",
      "0                       39                0  \n",
      "1                       39                0  \n",
      "2                       39                1  \n",
      "3                       39                1  \n",
      "4                       39                0  \n",
      "\n",
      "[One-Hot Encoding 결과 예시]\n",
      "   age  fnlwgt  educational-num  capital-gain  capital-loss  hours-per-week  \\\n",
      "0   25  226802                7             0             0              40   \n",
      "1   38   89814                9             0             0              50   \n",
      "2   28  336951               12             0             0              40   \n",
      "3   44  160323               10          7688             0              40   \n",
      "4   18  103497               10             0             0              30   \n",
      "\n",
      "   workclass_?  workclass_Federal-gov  workclass_Local-gov  \\\n",
      "0        False                  False                False   \n",
      "1        False                  False                False   \n",
      "2        False                  False                 True   \n",
      "3        False                  False                False   \n",
      "4         True                  False                False   \n",
      "\n",
      "   workclass_Never-worked  ...  native-country_Scotland  native-country_South  \\\n",
      "0                   False  ...                    False                 False   \n",
      "1                   False  ...                    False                 False   \n",
      "2                   False  ...                    False                 False   \n",
      "3                   False  ...                    False                 False   \n",
      "4                   False  ...                    False                 False   \n",
      "\n",
      "   native-country_Taiwan  native-country_Thailand  \\\n",
      "0                  False                    False   \n",
      "1                  False                    False   \n",
      "2                  False                    False   \n",
      "3                  False                    False   \n",
      "4                  False                    False   \n",
      "\n",
      "   native-country_Trinadad&Tobago  native-country_United-States  \\\n",
      "0                           False                          True   \n",
      "1                           False                          True   \n",
      "2                           False                          True   \n",
      "3                           False                          True   \n",
      "4                           False                          True   \n",
      "\n",
      "   native-country_Vietnam  native-country_Yugoslavia  income_<=50K  \\\n",
      "0                   False                      False          True   \n",
      "1                   False                      False          True   \n",
      "2                   False                      False         False   \n",
      "3                   False                      False         False   \n",
      "4                   False                      False          True   \n",
      "\n",
      "   income_>50K  \n",
      "0        False  \n",
      "1        False  \n",
      "2         True  \n",
      "3         True  \n",
      "4        False  \n",
      "\n",
      "[5 rows x 110 columns]\n"
     ]
    }
   ],
   "source": [
    "# 4. One-Hot Encoding 적용\n",
    "df_onehot_encoded = pd.get_dummies(df, columns=categorical_cols, prefix=categorical_cols)\n",
    "\n",
    "# 5. 결과 출력 확인\n",
    "print(\"\\n[Label Encoding 결과 예시]\")\n",
    "print(df_label_encoded.filter(like='_LabelEnc').head())\n",
    "\n",
    "print(\"\\n[One-Hot Encoding 결과 예시]\")\n",
    "print(df_onehot_encoded.head())"
   ]
  },
  {
   "cell_type": "code",
   "execution_count": null,
   "id": "98baa6b4",
   "metadata": {},
   "outputs": [],
   "source": []
  }
 ],
 "metadata": {
  "kernelspec": {
   "display_name": ".venv",
   "language": "python",
   "name": "python3"
  },
  "language_info": {
   "codemirror_mode": {
    "name": "ipython",
    "version": 3
   },
   "file_extension": ".py",
   "mimetype": "text/x-python",
   "name": "python",
   "nbconvert_exporter": "python",
   "pygments_lexer": "ipython3",
   "version": "3.13.4"
  }
 },
 "nbformat": 4,
 "nbformat_minor": 5
}
