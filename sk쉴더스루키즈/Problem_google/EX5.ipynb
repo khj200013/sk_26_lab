{
 "cells": [
  {
   "cell_type": "code",
   "execution_count": 3,
   "id": "b88dc3c5",
   "metadata": {},
   "outputs": [],
   "source": [
    "import pandas as pd\n",
    "from sklearn.preprocessing import StandardScaler"
   ]
  },
  {
   "cell_type": "code",
   "execution_count": 4,
   "id": "a5ef4152",
   "metadata": {},
   "outputs": [],
   "source": [
    "df = pd.read_csv(r\"C:\\Users\\khj98\\Documents\\python\\sk쉴더스루키즈\\data\\EX5_winequality-red.csv\")  # 경로 또는 파일명을 실제로 사용하는 것으로 바꿔주세요"
   ]
  },
  {
   "cell_type": "code",
   "execution_count": 6,
   "id": "98a09d82",
   "metadata": {},
   "outputs": [
    {
     "name": "stdout",
     "output_type": "stream",
     "text": [
      "스케일링 대상 수치형 열: ['fixed acidity', 'volatile acidity', 'citric acid', 'residual sugar', 'chlorides', 'free sulfur dioxide', 'total sulfur dioxide', 'density', 'pH', 'sulphates', 'alcohol', 'quality']\n"
     ]
    }
   ],
   "source": [
    "# 2. 수치형 열 자동 탐색\n",
    "numeric_cols = df.select_dtypes(include=['int64', 'float64']).columns.tolist()\n",
    "print(f\"스케일링 대상 수치형 열: {numeric_cols}\")"
   ]
  },
  {
   "cell_type": "code",
   "execution_count": 7,
   "id": "457bc3b7",
   "metadata": {},
   "outputs": [],
   "source": [
    "# 3. StandardScaler 적용\n",
    "scaler = StandardScaler()\n",
    "scaled_values = scaler.fit_transform(df[numeric_cols])"
   ]
  },
  {
   "cell_type": "code",
   "execution_count": 8,
   "id": "b8b016e6",
   "metadata": {},
   "outputs": [],
   "source": [
    "# 4. 결과 DataFrame 생성\n",
    "df_scaled = pd.DataFrame(scaled_values, columns=[col + '_scaled' for col in numeric_cols])"
   ]
  },
  {
   "cell_type": "code",
   "execution_count": 6,
   "id": "5e09e1b0",
   "metadata": {},
   "outputs": [
    {
     "name": "stdout",
     "output_type": "stream",
     "text": [
      "   fixed acidity  volatile acidity  citric acid  residual sugar  chlorides  \\\n",
      "0            7.4              0.70         0.00             1.9      0.076   \n",
      "1            7.8              0.88         0.00             2.6      0.098   \n",
      "2            7.8              0.76         0.04             2.3      0.092   \n",
      "3           11.2              0.28         0.56             1.9      0.075   \n",
      "4            7.4              0.70         0.00             1.9      0.076   \n",
      "\n",
      "   free sulfur dioxide  total sulfur dioxide  density    pH  sulphates  ...  \\\n",
      "0                 11.0                  34.0   0.9978  3.51       0.56  ...   \n",
      "1                 25.0                  67.0   0.9968  3.20       0.68  ...   \n",
      "2                 15.0                  54.0   0.9970  3.26       0.65  ...   \n",
      "3                 17.0                  60.0   0.9980  3.16       0.58  ...   \n",
      "4                 11.0                  34.0   0.9978  3.51       0.56  ...   \n",
      "\n",
      "   citric acid_scaled  residual sugar_scaled  chlorides_scaled  \\\n",
      "0           -1.391472              -0.453218         -0.243707   \n",
      "1           -1.391472               0.043416          0.223875   \n",
      "2           -1.186070              -0.169427          0.096353   \n",
      "3            1.484154              -0.453218         -0.264960   \n",
      "4           -1.391472              -0.453218         -0.243707   \n",
      "\n",
      "   free sulfur dioxide_scaled  total sulfur dioxide_scaled  density_scaled  \\\n",
      "0                   -0.466193                    -0.379133        0.558274   \n",
      "1                    0.872638                     0.624363        0.028261   \n",
      "2                   -0.083669                     0.229047        0.134264   \n",
      "3                    0.107592                     0.411500        0.664277   \n",
      "4                   -0.466193                    -0.379133        0.558274   \n",
      "\n",
      "   pH_scaled  sulphates_scaled  alcohol_scaled  quality_scaled  \n",
      "0   1.288643         -0.579207       -0.960246       -0.787823  \n",
      "1  -0.719933          0.128950       -0.584777       -0.787823  \n",
      "2  -0.331177         -0.048089       -0.584777       -0.787823  \n",
      "3  -0.979104         -0.461180       -0.584777        0.450848  \n",
      "4   1.288643         -0.579207       -0.960246       -0.787823  \n",
      "\n",
      "[5 rows x 24 columns]\n"
     ]
    }
   ],
   "source": [
    "# 5. 원본과 스케일링된 결과 결합 및 출력\n",
    "result = pd.concat([df[numeric_cols], df_scaled], axis=1)\n",
    "print(result.head())"
   ]
  }
 ],
 "metadata": {
  "kernelspec": {
   "display_name": ".venv",
   "language": "python",
   "name": "python3"
  },
  "language_info": {
   "codemirror_mode": {
    "name": "ipython",
    "version": 3
   },
   "file_extension": ".py",
   "mimetype": "text/x-python",
   "name": "python",
   "nbconvert_exporter": "python",
   "pygments_lexer": "ipython3",
   "version": "3.13.4"
  }
 },
 "nbformat": 4,
 "nbformat_minor": 5
}
