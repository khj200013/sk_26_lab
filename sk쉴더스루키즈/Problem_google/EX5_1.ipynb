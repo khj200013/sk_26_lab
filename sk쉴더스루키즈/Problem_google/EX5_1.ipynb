{
 "cells": [
  {
   "cell_type": "code",
   "execution_count": 1,
   "id": "6e78d0cd",
   "metadata": {},
   "outputs": [],
   "source": [
    "import pandas as pd\n",
    "from sklearn.preprocessing import StandardScaler\n",
    "from sklearn.model_selection import train_test_split\n",
    "from sklearn.ensemble import RandomForestClassifier\n",
    "from sklearn.metrics import classification_report, accuracy_score\n"
   ]
  },
  {
   "cell_type": "code",
   "execution_count": 2,
   "id": "e3e52329",
   "metadata": {},
   "outputs": [],
   "source": [
    "# 1. 데이터셋 불러오기\n",
    "df = pd.read_csv(r\"C:\\Users\\khj98\\Documents\\python\\sk쉴더스루키즈\\data\\EX5_winequality-red.csv\")\n",
    "\n",
    "# 2. 숫자형 열 자동 탐색\n",
    "numeric_cols = df.select_dtypes(include=['int64', 'float64']).columns.tolist()\n",
    "numeric_cols.remove('quality')  # 타겟 컬럼은 제외"
   ]
  },
  {
   "cell_type": "code",
   "execution_count": 3,
   "id": "65ec6811",
   "metadata": {},
   "outputs": [
    {
     "name": "stdout",
     "output_type": "stream",
     "text": [
      "\n",
      "✅ 정확도(Accuracy): 0.7937\n",
      "\n",
      "📊 분류 리포트:\n",
      "\n",
      "              precision    recall  f1-score   support\n",
      "\n",
      " Low Quality       0.77      0.77      0.77       141\n",
      "High Quality       0.82      0.82      0.82       179\n",
      "\n",
      "    accuracy                           0.79       320\n",
      "   macro avg       0.79      0.79      0.79       320\n",
      "weighted avg       0.79      0.79      0.79       320\n",
      "\n"
     ]
    }
   ],
   "source": [
    "# 3. 스케일링\n",
    "scaler = StandardScaler()\n",
    "scaled_features = scaler.fit_transform(df[numeric_cols])\n",
    "X = pd.DataFrame(scaled_features, columns=numeric_cols)\n",
    "\n",
    "# 4. 타겟 컬럼 준비 (분류 문제로 전처리: 품질 5 이하 = 0 (Low), 6 이상 = 1 (High))\n",
    "y = df['quality'].apply(lambda q: 1 if q >= 6 else 0)\n",
    "\n",
    "# 5. 데이터 분리\n",
    "X_train, X_test, y_train, y_test = train_test_split(X, y, test_size=0.2, random_state=42)\n",
    "\n",
    "# 6. 모델 훈련\n",
    "model = RandomForestClassifier(random_state=42)\n",
    "model.fit(X_train, y_train)\n",
    "\n",
    "# 7. 예측 및 평가\n",
    "y_pred = model.predict(X_test)\n",
    "acc = accuracy_score(y_test, y_pred)\n",
    "print(f\"\\n✅ 정확도(Accuracy): {acc:.4f}\\n\")\n",
    "print(\"📊 분류 리포트:\\n\")\n",
    "print(classification_report(y_test, y_pred, target_names=[\"Low Quality\", \"High Quality\"]))"
   ]
  },
  {
   "cell_type": "code",
   "execution_count": null,
   "id": "def9a7b8",
   "metadata": {},
   "outputs": [],
   "source": []
  }
 ],
 "metadata": {
  "kernelspec": {
   "display_name": ".venv",
   "language": "python",
   "name": "python3"
  },
  "language_info": {
   "codemirror_mode": {
    "name": "ipython",
    "version": 3
   },
   "file_extension": ".py",
   "mimetype": "text/x-python",
   "name": "python",
   "nbconvert_exporter": "python",
   "pygments_lexer": "ipython3",
   "version": "3.13.4"
  }
 },
 "nbformat": 4,
 "nbformat_minor": 5
}
