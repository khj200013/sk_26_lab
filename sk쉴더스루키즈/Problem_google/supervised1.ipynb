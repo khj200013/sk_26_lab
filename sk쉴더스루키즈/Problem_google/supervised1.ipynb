{
 "cells": [
  {
   "cell_type": "code",
   "execution_count": 1,
   "id": "ff4dfed8",
   "metadata": {},
   "outputs": [],
   "source": [
    "import pandas as pd\n",
    "from sklearn.model_selection import train_test_split\n",
    "from sklearn.preprocessing import StandardScaler\n",
    "from sklearn.ensemble import RandomForestClassifier\n",
    "from sklearn.metrics import accuracy_score, precision_score, recall_score, f1_score, confusion_matrix, classification_report"
   ]
  },
  {
   "cell_type": "code",
   "execution_count": 2,
   "id": "bed2abeb",
   "metadata": {},
   "outputs": [],
   "source": [
    "# 1. 데이터 로드\n",
    "df = pd.read_csv(\"creditcard.csv\")\n",
    "\n",
    "# 2. 특성과 레이블 분리\n",
    "X = df.drop(columns=['Class'])  # 특성\n",
    "y = df['Class']                 # 레이블 (0: 정상, 1: 사기)"
   ]
  },
  {
   "cell_type": "code",
   "execution_count": 5,
   "id": "d32b6fb3",
   "metadata": {},
   "outputs": [
    {
     "name": "stdout",
     "output_type": "stream",
     "text": [
      "🔍 모델 평가 결과\n",
      "정확도 (Accuracy): 0.9996\n",
      "정밀도 (Precision): 0.9412\n",
      "재현율 (Recall): 0.8163\n",
      "F1 점수 (F1-score): 0.8743\n",
      "\n",
      "📌 혼동 행렬 (Confusion Matrix):\n",
      "[[56859     5]\n",
      " [   18    80]]\n",
      "\n",
      "📋 분류 리포트:\n",
      "              precision    recall  f1-score   support\n",
      "\n",
      "           0       1.00      1.00      1.00     56864\n",
      "           1       0.94      0.82      0.87        98\n",
      "\n",
      "    accuracy                           1.00     56962\n",
      "   macro avg       0.97      0.91      0.94     56962\n",
      "weighted avg       1.00      1.00      1.00     56962\n",
      "\n"
     ]
    }
   ],
   "source": [
    "# 3. 데이터 분할 (학습:테스트 = 80:20)\n",
    "X_train, X_test, y_train, y_test = train_test_split(\n",
    "    X, y, test_size=0.2, stratify=y, random_state=42\n",
    ")\n",
    "\n",
    "# 4. 데이터 스케일링 (표준화)\n",
    "scaler = StandardScaler()\n",
    "X_train_scaled = scaler.fit_transform(X_train)\n",
    "X_test_scaled = scaler.transform(X_test)\n",
    "\n",
    "# 5. 모델 학습 (랜덤 포레스트)\n",
    "model = RandomForestClassifier(n_estimators=100, random_state=42)\n",
    "model.fit(X_train_scaled, y_train)\n",
    "\n",
    "# 6. 예측 및 평가\n",
    "y_pred = model.predict(X_test_scaled)\n",
    "\n",
    "# 평가 지표 출력\n",
    "print(\"🔍 모델 평가 결과\")\n",
    "print(f\"정확도 (Accuracy): {accuracy_score(y_test, y_pred):.4f}\")\n",
    "print(f\"정밀도 (Precision): {precision_score(y_test, y_pred):.4f}\")\n",
    "print(f\"재현율 (Recall): {recall_score(y_test, y_pred):.4f}\")\n",
    "print(f\"F1 점수 (F1-score): {f1_score(y_test, y_pred):.4f}\")\n",
    "print(\"\\n📌 혼동 행렬 (Confusion Matrix):\")\n",
    "print(confusion_matrix(y_test, y_pred))\n",
    "print(\"\\n📋 분류 리포트:\")\n",
    "print(classification_report(y_test, y_pred))"
   ]
  },
  {
   "cell_type": "code",
   "execution_count": null,
   "id": "5787c2de",
   "metadata": {},
   "outputs": [],
   "source": []
  }
 ],
 "metadata": {
  "kernelspec": {
   "display_name": ".venv",
   "language": "python",
   "name": "python3"
  },
  "language_info": {
   "codemirror_mode": {
    "name": "ipython",
    "version": 3
   },
   "file_extension": ".py",
   "mimetype": "text/x-python",
   "name": "python",
   "nbconvert_exporter": "python",
   "pygments_lexer": "ipython3",
   "version": "3.13.4"
  }
 },
 "nbformat": 4,
 "nbformat_minor": 5
}
